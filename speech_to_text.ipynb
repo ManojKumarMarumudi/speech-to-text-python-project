{
  "cells": [
    {
      "cell_type": "markdown",
      "metadata": {
        "id": "view-in-github",
        "colab_type": "text"
      },
      "source": [
        "<a href=\"https://colab.research.google.com/github/ManojKumarMarumudi/speech-to-text-python-project/blob/main/speech_to_text.ipynb\" target=\"_parent\"><img src=\"https://colab.research.google.com/assets/colab-badge.svg\" alt=\"Open In Colab\"/></a>"
      ]
    },
    {
      "cell_type": "code",
      "execution_count": 15,
      "metadata": {
        "colab": {
          "base_uri": "https://localhost:8080/"
        },
        "id": "zvafexzcrqHQ",
        "outputId": "f8b6e28c-45bb-4bcb-92c6-4b2a931ecd28"
      },
      "outputs": [
        {
          "output_type": "stream",
          "name": "stdout",
          "text": [
            "Requirement already satisfied: SpeechRecognition in /usr/local/lib/python3.7/dist-packages (3.8.1)\n",
            "Collecting pydub\n",
            "  Downloading pydub-0.25.1-py2.py3-none-any.whl (32 kB)\n",
            "Installing collected packages: pydub\n",
            "Successfully installed pydub-0.25.1\n"
          ]
        }
      ],
      "source": [
        "pip install SpeechRecognition pydub"
      ]
    },
    {
      "cell_type": "code",
      "execution_count": 16,
      "metadata": {
        "colab": {
          "base_uri": "https://localhost:8080/"
        },
        "id": "8Ss7mJknzJxK",
        "outputId": "4bf1b782-a0ae-45d2-d1ea-861ca4191ac9"
      },
      "outputs": [
        {
          "output_type": "stream",
          "name": "stdout",
          "text": [
            "Reading package lists... Done\n",
            "Building dependency tree       \n",
            "Reading state information... Done\n",
            "libportaudio2 is already the newest version (19.6.0-1).\n",
            "libportaudiocpp0 is already the newest version (19.6.0-1).\n",
            "portaudio19-dev is already the newest version (19.6.0-1).\n",
            "libasound2-dev is already the newest version (1.1.3-5ubuntu0.6).\n",
            "ffmpeg is already the newest version (7:3.4.8-0ubuntu0.2).\n",
            "0 upgraded, 0 newly installed, 0 to remove and 40 not upgraded.\n"
          ]
        }
      ],
      "source": [
        "!apt install libasound2-dev portaudio19-dev libportaudio2 libportaudiocpp0 ffmpeg"
      ]
    },
    {
      "cell_type": "code",
      "execution_count": 17,
      "metadata": {
        "colab": {
          "base_uri": "https://localhost:8080/"
        },
        "id": "bs_vnLVLuSUY",
        "outputId": "bbc6f159-73a5-4029-ace3-fbc72b0c1575"
      },
      "outputs": [
        {
          "output_type": "stream",
          "name": "stdout",
          "text": [
            "Requirement already satisfied: PyAudio in /usr/local/lib/python3.7/dist-packages (0.2.11)\n"
          ]
        }
      ],
      "source": [
        "pip install PyAudio"
      ]
    },
    {
      "cell_type": "code",
      "execution_count": 18,
      "metadata": {
        "id": "FtDFoVZhr99_"
      },
      "outputs": [],
      "source": [
        "import speech_recognition as sr"
      ]
    },
    {
      "cell_type": "code",
      "source": [
        "import pyaudio as spy"
      ],
      "metadata": {
        "id": "L2M6p3rTPTkz"
      },
      "execution_count": 19,
      "outputs": []
    },
    {
      "cell_type": "code",
      "execution_count": 20,
      "metadata": {
        "id": "NPLX1BDVsKCC"
      },
      "outputs": [],
      "source": [
        "r=sr.Recognizer()"
      ]
    },
    {
      "cell_type": "code",
      "execution_count": 23,
      "metadata": {
        "id": "QCH-LxfnwEYH",
        "colab": {
          "base_uri": "https://localhost:8080/"
        },
        "outputId": "64192966-ee4d-43ac-ae87-f159a64dfb54"
      },
      "outputs": [
        {
          "output_type": "stream",
          "name": "stdout",
          "text": [
            "thank you for installing Express ticket site you will find Express deepside will improve the way you dictate by letting you dictate when you're away from the office centre dictation to your time custom mediately over the internet and keep track of your work in the typing\n"
          ]
        }
      ],
      "source": [
        "with sr.AudioFile(\"/content/drive/MyDrive/internship/sample.wav\") as source:\n",
        "    audio_data = r.record(source)\n",
        "    text = r.recognize_google(audio_data)\n",
        "    print(text)\n"
      ]
    },
    {
      "cell_type": "code",
      "execution_count": null,
      "metadata": {
        "id": "fORucVyQwEkV"
      },
      "outputs": [],
      "source": [
        ""
      ]
    },
    {
      "cell_type": "code",
      "execution_count": null,
      "metadata": {
        "id": "cWo2qEq5wExH"
      },
      "outputs": [],
      "source": [
        ""
      ]
    }
  ],
  "metadata": {
    "colab": {
      "collapsed_sections": [],
      "name": "speech to text.ipynb",
      "provenance": [],
      "mount_file_id": "1AaPSaflovdPoxCypRbKFY_ujaj1yDZR2",
      "authorship_tag": "ABX9TyPeVoS47oBMN+QG87RzyPIr",
      "include_colab_link": true
    },
    "kernelspec": {
      "display_name": "Python 3",
      "name": "python3"
    },
    "language_info": {
      "name": "python"
    }
  },
  "nbformat": 4,
  "nbformat_minor": 0
}